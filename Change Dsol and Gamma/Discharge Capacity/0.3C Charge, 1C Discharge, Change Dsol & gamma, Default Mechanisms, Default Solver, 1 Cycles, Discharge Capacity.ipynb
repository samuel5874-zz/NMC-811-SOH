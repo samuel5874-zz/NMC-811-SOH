{
 "cells": [
  {
   "cell_type": "code",
   "id": "initial_id",
   "metadata": {
    "collapsed": true,
    "ExecuteTime": {
     "end_time": "2025-02-27T19:36:44.222562Z",
     "start_time": "2025-02-27T19:36:33.697653Z"
    }
   },
   "source": [
    "# Install necessary libraries\n",
    "%pip install \"pybamm[plot,cite]\" -q\n",
    "\n",
    "import pybamm\n",
    "import matplotlib.pyplot as plt\n",
    "\n",
    "# Define the battery model\n",
    "model = pybamm.lithium_ion.DFN(\n",
    "    {\n",
    "        \"SEI\": \"solvent-diffusion limited\",\n",
    "        \"SEI porosity change\": \"true\",\n",
    "        \"lithium plating\": \"partially reversible\",\n",
    "        \"lithium plating porosity change\": \"true\",  # alias for \"SEI porosity change\"\n",
    "        \"particle mechanics\": (\"swelling and cracking\", \"swelling only\"),\n",
    "        \"SEI on cracks\": \"true\",\n",
    "        \"loss of active material\": \"stress-driven\",\n",
    "        \"calculate discharge energy\": \"true\",  # for compatibility with older PyBaMM versions\n",
    "    }\n",
    ")\n",
    "\n",
    "# Set model parameters\n",
    "param = pybamm.ParameterValues(\"OKane2022\")\n",
    "param.update({\n",
    "    \"SEI solvent diffusivity [m2.s-1]\": 2e-21,  # The new value can be adjusted as needed\n",
    "    'Dead lithium decay constant [s-1]': 7.5e-5,\n",
    "})\n",
    "\n",
    "var_pts = {\n",
    "    \"x_n\": 5,  # Negative electrode\n",
    "    \"x_s\": 5,  # Separator\n",
    "    \"x_p\": 5,  # Positive electrode\n",
    "    \"r_n\": 30,  # Negative electrode particles\n",
    "    \"r_p\": 30,  # Positive electrode particles\n",
    "}\n",
    "\n",
    "# Set the target number of cycles\n",
    "target_cycle = 1\n",
    "\n",
    "print(f\"Calculating cycle {target_cycle} ...\")\n",
    "\n",
    "# Define the experimental protocol\n",
    "exp_k = pybamm.Experiment(\n",
    "    [\n",
    "        \"Hold at 4.2 V until C/100 (5 minute period)\",\n",
    "        \"Rest for 4 hours (5 minute period)\",\n",
    "        \"Discharge at 0.1C until 2.5 V (5 minute period)\",\n",
    "        \"Charge at 0.3C until 4.2 V (5 minute period)\",\n",
    "        \"Hold at 4.2 V until C/100 (5 minute period)\",\n",
    "    ]\n",
    "    + [\n",
    "        (\n",
    "            \"Discharge at 1C until 2.5 V\",\n",
    "            \"Charge at 0.3C until 4.2 V (5 minute period)\",\n",
    "            \"Hold at 4.2 V until C/100 (5 minute period)\",\n",
    "        )\n",
    "    ]\n",
    "    * target_cycle\n",
    "    + [\"Discharge at 0.1C until 2.5 V (5 minute period)\"],\n",
    ")\n",
    "\n",
    "# Run the simulation\n",
    "sim_k = pybamm.Simulation(model, parameter_values=param, experiment=exp_k, var_pts=var_pts)\n",
    "sol_k = sim_k.solve()\n",
    "\n",
    "# Extract Discharge capacity (unit: A.h) and calculate the remaining capacity\n",
    "Q_final_k = sol_k['Discharge capacity [A.h]'].entries[-1]\n",
    "remaining_capacity_k = Q_final_k / 5 * 100\n",
    "\n",
    "print(f\"When k={target_cycle}, the remaining capacity is: {remaining_capacity_k:.2f}%\")"
   ],
   "outputs": [
    {
     "name": "stdout",
     "output_type": "stream",
     "text": [
      "Note: you may need to restart the kernel to use updated packages.\n",
      "Calculating cycle 1 ...\n"
     ]
    },
    {
     "name": "stderr",
     "output_type": "stream",
     "text": [
      "At t = 469.698 and h = 9.84043e-12, the corrector convergence failed repeatedly or with |h| = hmin.\n",
      "At t = 229.698 and h = 1.18976e-11, the corrector convergence failed repeatedly or with |h| = hmin.\n"
     ]
    },
    {
     "name": "stdout",
     "output_type": "stream",
     "text": [
      "When k=1, the remaining capacity is: 100.22%\n"
     ]
    }
   ],
   "execution_count": 1
  }
 ],
 "metadata": {
  "kernelspec": {
   "display_name": "Python 3",
   "language": "python",
   "name": "python3"
  },
  "language_info": {
   "codemirror_mode": {
    "name": "ipython",
    "version": 2
   },
   "file_extension": ".py",
   "mimetype": "text/x-python",
   "name": "python",
   "nbconvert_exporter": "python",
   "pygments_lexer": "ipython2",
   "version": "2.7.6"
  }
 },
 "nbformat": 4,
 "nbformat_minor": 5
}
