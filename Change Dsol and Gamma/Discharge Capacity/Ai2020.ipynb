{
 "cells": [
  {
   "cell_type": "code",
   "id": "initial_id",
   "metadata": {
    "collapsed": true,
    "ExecuteTime": {
     "end_time": "2025-02-28T01:11:29.544172Z",
     "start_time": "2025-02-28T01:11:28.894453Z"
    }
   },
   "source": [
    "# Install necessary libraries\n",
    "%pip install \"pybamm[plot,cite]\" -q\n",
    "\n",
    "import pybamm\n",
    "import matplotlib.pyplot as plt\n",
    "param = pybamm.ParameterValues(\"Ai2020\")\n",
    "print(param['graphite cracking rate'])\n",
    "\n",
    "\n"
   ],
   "outputs": [
    {
     "name": "stdout",
     "output_type": "stream",
     "text": [
      "Note: you may need to restart the kernel to use updated packages.\n"
     ]
    },
    {
     "ename": "KeyError",
     "evalue": "\"'graphite cracking rate' not found. Best matches are ['Negative electrode cracking rate', 'Positive electrode cracking rate']\"",
     "output_type": "error",
     "traceback": [
      "\u001B[0;31m---------------------------------------------------------------------------\u001B[0m",
      "\u001B[0;31mKeyError\u001B[0m                                  Traceback (most recent call last)",
      "File \u001B[0;32m~/miniconda3/lib/python3.12/site-packages/pybamm/util.py:32\u001B[0m, in \u001B[0;36mFuzzyDict.__getitem__\u001B[0;34m(self, key)\u001B[0m\n\u001B[1;32m     31\u001B[0m \u001B[38;5;28;01mtry\u001B[39;00m:\n\u001B[0;32m---> 32\u001B[0m     \u001B[38;5;28;01mreturn\u001B[39;00m \u001B[38;5;28;43msuper\u001B[39;49m\u001B[43m(\u001B[49m\u001B[43m)\u001B[49m\u001B[38;5;241;43m.\u001B[39;49m\u001B[38;5;21;43m__getitem__\u001B[39;49m\u001B[43m(\u001B[49m\u001B[43mkey\u001B[49m\u001B[43m)\u001B[49m\n\u001B[1;32m     33\u001B[0m \u001B[38;5;28;01mexcept\u001B[39;00m \u001B[38;5;167;01mKeyError\u001B[39;00m \u001B[38;5;28;01mas\u001B[39;00m error:\n",
      "\u001B[0;31mKeyError\u001B[0m: 'graphite cracking rate'",
      "\nThe above exception was the direct cause of the following exception:\n",
      "\u001B[0;31mKeyError\u001B[0m                                  Traceback (most recent call last)",
      "Cell \u001B[0;32mIn[7], line 7\u001B[0m\n\u001B[1;32m      5\u001B[0m \u001B[38;5;28;01mimport\u001B[39;00m\u001B[38;5;250m \u001B[39m\u001B[38;5;21;01mmatplotlib\u001B[39;00m\u001B[38;5;21;01m.\u001B[39;00m\u001B[38;5;21;01mpyplot\u001B[39;00m\u001B[38;5;250m \u001B[39m\u001B[38;5;28;01mas\u001B[39;00m\u001B[38;5;250m \u001B[39m\u001B[38;5;21;01mplt\u001B[39;00m\n\u001B[1;32m      6\u001B[0m param \u001B[38;5;241m=\u001B[39m pybamm\u001B[38;5;241m.\u001B[39mParameterValues(\u001B[38;5;124m\"\u001B[39m\u001B[38;5;124mAi2020\u001B[39m\u001B[38;5;124m\"\u001B[39m)\n\u001B[0;32m----> 7\u001B[0m \u001B[38;5;28mprint\u001B[39m(\u001B[43mparam\u001B[49m\u001B[43m[\u001B[49m\u001B[38;5;124;43m'\u001B[39;49m\u001B[38;5;124;43mgraphite cracking rate\u001B[39;49m\u001B[38;5;124;43m'\u001B[39;49m\u001B[43m]\u001B[49m)\n",
      "File \u001B[0;32m~/miniconda3/lib/python3.12/site-packages/pybamm/parameters/parameter_values.py:184\u001B[0m, in \u001B[0;36mParameterValues.__getitem__\u001B[0;34m(self, key)\u001B[0m\n\u001B[1;32m    174\u001B[0m     \u001B[38;5;28;01mraise\u001B[39;00m \u001B[38;5;167;01mKeyError\u001B[39;00m(\n\u001B[1;32m    175\u001B[0m         \u001B[38;5;124m\"\u001B[39m\u001B[38;5;124m'\u001B[39m\u001B[38;5;124mExchange-current density for plating [A.m-2]\u001B[39m\u001B[38;5;124m'\u001B[39m\u001B[38;5;124m has been renamed \u001B[39m\u001B[38;5;124m\"\u001B[39m\n\u001B[1;32m    176\u001B[0m         \u001B[38;5;124m\"\u001B[39m\u001B[38;5;124mto \u001B[39m\u001B[38;5;124m'\u001B[39m\u001B[38;5;124mExchange-current density for lithium metal electrode [A.m-2]\u001B[39m\u001B[38;5;124m'\u001B[39m\u001B[38;5;124m \u001B[39m\u001B[38;5;124m\"\u001B[39m\n\u001B[0;32m   (...)\u001B[0m\n\u001B[1;32m    181\u001B[0m         \u001B[38;5;124m\"\u001B[39m\u001B[38;5;124mthe new name.\u001B[39m\u001B[38;5;124m\"\u001B[39m\n\u001B[1;32m    182\u001B[0m     ) \u001B[38;5;28;01mfrom\u001B[39;00m\u001B[38;5;250m \u001B[39m\u001B[38;5;21;01merr\u001B[39;00m\n\u001B[1;32m    183\u001B[0m \u001B[38;5;28;01melse\u001B[39;00m:\n\u001B[0;32m--> 184\u001B[0m     \u001B[38;5;28;01mraise\u001B[39;00m err\n",
      "File \u001B[0;32m~/miniconda3/lib/python3.12/site-packages/pybamm/parameters/parameter_values.py:167\u001B[0m, in \u001B[0;36mParameterValues.__getitem__\u001B[0;34m(self, key)\u001B[0m\n\u001B[1;32m    165\u001B[0m \u001B[38;5;28;01mdef\u001B[39;00m\u001B[38;5;250m \u001B[39m\u001B[38;5;21m__getitem__\u001B[39m(\u001B[38;5;28mself\u001B[39m, key):\n\u001B[1;32m    166\u001B[0m     \u001B[38;5;28;01mtry\u001B[39;00m:\n\u001B[0;32m--> 167\u001B[0m         \u001B[38;5;28;01mreturn\u001B[39;00m \u001B[38;5;28;43mself\u001B[39;49m\u001B[38;5;241;43m.\u001B[39;49m\u001B[43m_dict_items\u001B[49m\u001B[43m[\u001B[49m\u001B[43mkey\u001B[49m\u001B[43m]\u001B[49m\n\u001B[1;32m    168\u001B[0m     \u001B[38;5;28;01mexcept\u001B[39;00m \u001B[38;5;167;01mKeyError\u001B[39;00m \u001B[38;5;28;01mas\u001B[39;00m err:\n\u001B[1;32m    169\u001B[0m         \u001B[38;5;28;01mif\u001B[39;00m (\n\u001B[1;32m    170\u001B[0m             \u001B[38;5;124m\"\u001B[39m\u001B[38;5;124mExchange-current density for lithium metal electrode [A.m-2]\u001B[39m\u001B[38;5;124m\"\u001B[39m\n\u001B[1;32m    171\u001B[0m             \u001B[38;5;129;01min\u001B[39;00m err\u001B[38;5;241m.\u001B[39margs[\u001B[38;5;241m0\u001B[39m]\n\u001B[1;32m    172\u001B[0m             \u001B[38;5;129;01mand\u001B[39;00m \u001B[38;5;124m\"\u001B[39m\u001B[38;5;124mExchange-current density for plating [A.m-2]\u001B[39m\u001B[38;5;124m\"\u001B[39m \u001B[38;5;129;01min\u001B[39;00m \u001B[38;5;28mself\u001B[39m\u001B[38;5;241m.\u001B[39m_dict_items\n\u001B[1;32m    173\u001B[0m         ):\n",
      "File \u001B[0;32m~/miniconda3/lib/python3.12/site-packages/pybamm/util.py:90\u001B[0m, in \u001B[0;36mFuzzyDict.__getitem__\u001B[0;34m(self, key)\u001B[0m\n\u001B[1;32m     84\u001B[0m     \u001B[38;5;28;01melif\u001B[39;00m key \u001B[38;5;129;01min\u001B[39;00m k \u001B[38;5;129;01mand\u001B[39;00m (\n\u001B[1;32m     85\u001B[0m         k\u001B[38;5;241m.\u001B[39mstartswith(\u001B[38;5;124m\"\u001B[39m\u001B[38;5;124mPrimary\u001B[39m\u001B[38;5;124m\"\u001B[39m) \u001B[38;5;129;01mor\u001B[39;00m k\u001B[38;5;241m.\u001B[39mstartswith(\u001B[38;5;124m\"\u001B[39m\u001B[38;5;124mSecondary\u001B[39m\u001B[38;5;124m\"\u001B[39m)\n\u001B[1;32m     86\u001B[0m     ):\n\u001B[1;32m     87\u001B[0m         \u001B[38;5;28;01mraise\u001B[39;00m \u001B[38;5;167;01mKeyError\u001B[39;00m(\n\u001B[1;32m     88\u001B[0m             \u001B[38;5;124mf\u001B[39m\u001B[38;5;124m\"\u001B[39m\u001B[38;5;124m'\u001B[39m\u001B[38;5;132;01m{\u001B[39;00mkey\u001B[38;5;132;01m}\u001B[39;00m\u001B[38;5;124m'\u001B[39m\u001B[38;5;124m not found. If you are using a composite model, you may need to use \u001B[39m\u001B[38;5;132;01m{\u001B[39;00mk\u001B[38;5;132;01m}\u001B[39;00m\u001B[38;5;124m instead. Otherwise, best matches are \u001B[39m\u001B[38;5;132;01m{\u001B[39;00mbest_matches\u001B[38;5;132;01m}\u001B[39;00m\u001B[38;5;124m\"\u001B[39m\n\u001B[1;32m     89\u001B[0m         ) \u001B[38;5;28;01mfrom\u001B[39;00m\u001B[38;5;250m \u001B[39m\u001B[38;5;21;01merror\u001B[39;00m\n\u001B[0;32m---> 90\u001B[0m \u001B[38;5;28;01mraise\u001B[39;00m \u001B[38;5;167;01mKeyError\u001B[39;00m(\n\u001B[1;32m     91\u001B[0m     \u001B[38;5;124mf\u001B[39m\u001B[38;5;124m\"\u001B[39m\u001B[38;5;124m'\u001B[39m\u001B[38;5;132;01m{\u001B[39;00mkey\u001B[38;5;132;01m}\u001B[39;00m\u001B[38;5;124m'\u001B[39m\u001B[38;5;124m not found. Best matches are \u001B[39m\u001B[38;5;132;01m{\u001B[39;00mbest_matches\u001B[38;5;132;01m}\u001B[39;00m\u001B[38;5;124m\"\u001B[39m\n\u001B[1;32m     92\u001B[0m ) \u001B[38;5;28;01mfrom\u001B[39;00m\u001B[38;5;250m \u001B[39m\u001B[38;5;21;01merror\u001B[39;00m\n",
      "\u001B[0;31mKeyError\u001B[0m: \"'graphite cracking rate' not found. Best matches are ['Negative electrode cracking rate', 'Positive electrode cracking rate']\""
     ]
    }
   ],
   "execution_count": 7
  }
 ],
 "metadata": {
  "kernelspec": {
   "display_name": "Python 3",
   "language": "python",
   "name": "python3"
  },
  "language_info": {
   "codemirror_mode": {
    "name": "ipython",
    "version": 2
   },
   "file_extension": ".py",
   "mimetype": "text/x-python",
   "name": "python",
   "nbconvert_exporter": "python",
   "pygments_lexer": "ipython2",
   "version": "2.7.6"
  }
 },
 "nbformat": 4,
 "nbformat_minor": 5
}
